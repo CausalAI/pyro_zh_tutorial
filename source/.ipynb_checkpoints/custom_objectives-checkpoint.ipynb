{
 "cells": [
  {
   "cell_type": "markdown",
   "metadata": {
    "Collapsed": "false"
   },
   "source": [
    "# 自定义 SVI 目标函数\n",
    "\n",
    "\n",
    "（Pyro 用 SVI 为贝叶斯推断提供支持）Pyro provides support for various optimization-based approaches to Bayesian inference, with `Trace_ELBO` serving as the basic implementation of SVI (stochastic variational inference). See the [docs](http://docs.pyro.ai/en/dev/inference_algos.html#module-pyro.infer.svi) for more information on the various SVI implementations and SVI \n",
    "tutorials [I](http://pyro.ai/examples/svi_part_i.html), \n",
    "[II](http://pyro.ai/examples/svi_part_ii.html), \n",
    "and [III](http://pyro.ai/examples/svi_part_iii.html) for background on SVI.\n",
    "\n",
    "（本教程将用示例说明如何定制变分目标函数）In this tutorial we show how advanced users can modify and/or augment the variational objectives (alternatively: loss functions) provided by Pyro to support special use cases."
   ]
  },
  {
   "cell_type": "markdown",
   "metadata": {
    "Collapsed": "false"
   },
   "source": [
    "## SVI 的基本用法\n",
    "\n",
    "我们首先回顾 Pyro 中 `SVI` objects 的使用方法. We assume that the user\n",
    "has defined a `model` and a `guide`.  The user then creates an optimizer and an `SVI` object:\n",
    "\n",
    "```python\n",
    "optimizer = pyro.optim.Adam({\"lr\": 0.001, \"betas\": (0.90, 0.999)})\n",
    "svi = pyro.infer.SVI(model, guide, optimizer, loss=pyro.infer.Trace_ELBO())\n",
    "```\n",
    "\n",
    "Gradient steps can then be taken with a call to `svi.step(...)`. The arguments to `step()` are then\n",
    "passed to `model` and `guide`."
   ]
  },
  {
   "cell_type": "code",
   "execution_count": 2,
   "metadata": {
    "Collapsed": "false"
   },
   "outputs": [
    {
     "name": "stdout",
     "output_type": "stream",
     "text": [
      "....................\n",
      "based on the data and our prior belief, the fairness of the coin is 0.533 +- 0.090\n"
     ]
    }
   ],
   "source": [
    "# 加上一个正则项\n",
    "import math, os, torch, pyro\n",
    "import torch.distributions.constraints as constraints\n",
    "import pyro.distributions as dist\n",
    "from pyro.optim import Adam\n",
    "from pyro.infer import SVI, Trace_ELBO\n",
    "\n",
    "assert pyro.__version__.startswith('1.3.0')\n",
    "pyro.enable_validation(True)\n",
    "pyro.clear_param_store()\n",
    "\n",
    "data = []\n",
    "data.extend([torch.tensor(1.0) for _ in range(6)])\n",
    "data.extend([torch.tensor(0.0) for _ in range(4)])\n",
    "\n",
    "def model(data):\n",
    "    alpha0, beta0 = torch.tensor(10.0), torch.tensor(10.0)\n",
    "    theta = pyro.sample(\"latent_fairness\", dist.Beta(alpha0, beta0))\n",
    "    for i in range(len(data)):\n",
    "        pyro.sample(\"obs_{}\".format(i), dist.Bernoulli(theta), obs=data[i])\n",
    "def guide(data):\n",
    "    alpha_q = pyro.param(\"alpha_q\", torch.tensor(15.0), constraint=constraints.positive)\n",
    "    beta_q = pyro.param(\"beta_q\", torch.tensor(15.0), constraint=constraints.positive)\n",
    "    pyro.sample(\"latent_fairness\", dist.Beta(alpha_q, beta_q))\n",
    "\n",
    "adam_params = {\"lr\": 0.0005, \"betas\": (0.90, 0.999)}\n",
    "optimizer = Adam(adam_params, {\"clip_norm\": 10.0}) # 添加梯度截断\n",
    "# loss_fn = pyro.infer.Trace_ELBO().differentiable_loss\n",
    "\n",
    "svi = SVI(model, guide, optimizer, loss=Trace_ELBO())\n",
    "\n",
    "n_steps = 2000\n",
    "for step in range(n_steps):\n",
    "    svi.step(data)\n",
    "    if step % 100 == 0:\n",
    "        print('.', end='')\n",
    "\n",
    "alpha_q = pyro.param(\"alpha_q\").item()\n",
    "beta_q = pyro.param(\"beta_q\").item()\n",
    "inferred_mean = alpha_q / (alpha_q + beta_q)\n",
    "factor = beta_q / (alpha_q * (1.0 + alpha_q + beta_q))\n",
    "inferred_std = inferred_mean * math.sqrt(factor)\n",
    "print(\"\\nbased on the data and our prior belief, the fairness \" +\n",
    "      \"of the coin is %.3f +- %.3f\" % (inferred_mean, inferred_std))"
   ]
  },
  {
   "cell_type": "markdown",
   "metadata": {
    "Collapsed": "false"
   },
   "source": [
    "## 修改损失函数\n",
    "\n",
    "The nice thing about the above pattern is that it allows Pyro to take care of various details for us, for example:\n",
    "\n",
    "- `pyro.optim.Adam` dynamically creates a new `torch.optim.Adam` optimizer whenever a new parameter is encountered \n",
    "- `SVI.step()` zeros gradients between gradient steps\n",
    "\n",
    "（直接操作 loss 方法）If we want more control, we can directly manipulate the differentiable loss method of the various `ELBO` classes. For example, (assuming we know all the parameters in advance) this is equivalent to the previous code snippet:\n",
    "\n",
    "```python\n",
    "# define optimizer and loss function\n",
    "optimizer = torch.optim.Adam(my_parameters, {\"lr\": 0.001, \"betas\": (0.90, 0.999)})\n",
    "loss_fn = pyro.infer.Trace_ELBO().differentiable_loss\n",
    "# compute loss\n",
    "loss = loss_fn(model, guide, model_and_guide_args)\n",
    "loss.backward()\n",
    "# take a step and zero the parameter gradients\n",
    "optimizer.step()\n",
    "optimizer.zero_grad()\n",
    "```"
   ]
  },
  {
   "cell_type": "markdown",
   "metadata": {
    "Collapsed": "false"
   },
   "source": [
    "### 添加正则项\n",
    "\n",
    "Suppose we want to add a custom regularization term to the SVI loss. Using the above \n",
    "usage pattern, this is easy to do. First we define our regularizer:\n",
    "\n",
    "```python\n",
    "def my_custom_L2_regularizer(my_parameters):\n",
    "    reg_loss = 0.0\n",
    "    for param in my_parameters:\n",
    "        reg_loss = reg_loss + param.pow(2.0).sum()\n",
    "    return reg_loss  \n",
    "```\n",
    "\n",
    "Then the only change we need to make is:\n",
    "\n",
    "```diff\n",
    "- loss = loss_fn(model, guide)\n",
    "+ loss = loss_fn(model, guide) + my_custom_L2_regularizer(my_parameters)\n",
    "```"
   ]
  },
  {
   "cell_type": "markdown",
   "metadata": {
    "Collapsed": "false"
   },
   "source": [
    "### 梯度截断\n",
    "\n",
    "For some models the loss gradient can explode during training, leading to overflow and \n",
    "`NaN` values. One way to protect against this is with gradient clipping. The optimizers\n",
    "in `pyro.optim` take an optional dictionary of `clip_args` which allows clipping either\n",
    "the gradient norm or the gradient value to fall within the given limit.\n",
    "\n",
    "To change the basic example above:\n",
    "\n",
    "```diff\n",
    "- optimizer = pyro.optim.Adam({\"lr\": 0.001, \"betas\": (0.90, 0.999)})\n",
    "+ optimizer = pyro.optim.Adam({\"lr\": 0.001, \"betas\": (0.90, 0.999)}, {\"clip_norm\": 10.0})\n",
    "```"
   ]
  },
  {
   "cell_type": "markdown",
   "metadata": {
    "Collapsed": "false"
   },
   "source": [
    "### Scaling the Loss\n",
    "\n",
    "Depending on the optimization algorithm, the scale of the loss may or not matter. Suppose \n",
    "we want to scale our loss function by the number of datapoints before we differentiate it.\n",
    "This is easily done:\n",
    "\n",
    "```diff\n",
    "- loss = loss_fn(model, guide)\n",
    "+ loss = loss_fn(model, guide) / N_data\n",
    "```\n",
    "\n",
    "Note that in the case of SVI, where each term in the loss function is a log probability \n",
    "from the model or guide, this same effect can be achieved using [poutine.scale](http://docs.pyro.ai/en/dev/poutine.html#pyro.poutine.scale). For \n",
    "example we can use the `poutine.scale` decorator to scale both the model and guide:\n",
    "\n",
    "```python\n",
    "@poutine.scale(scale=1.0/N_data)\n",
    "def model(...):\n",
    "    pass\n",
    "   \n",
    "@poutine.scale(scale=1.0/N_data)\n",
    "def guide(...):\n",
    "    pass\n",
    "```"
   ]
  },
  {
   "cell_type": "markdown",
   "metadata": {
    "Collapsed": "false"
   },
   "source": [
    "### Mixing Optimizers\n",
    "\n",
    "The various optimizers in `pyro.optim` allow the user to specify optimization settings (e.g. learning rates) on\n",
    "a per-parameter basis. But what if we want to use different optimization algorithms for different parameters? \n",
    "We can do this using Pyro's `MultiOptimizer` (see below), but we can also achieve the same thing if we directly manipulate `differentiable_loss`:\n",
    "\n",
    "```python\n",
    "adam = torch.optim.Adam(adam_parameters, {\"lr\": 0.001, \"betas\": (0.90, 0.999)})\n",
    "sgd = torch.optim.SGD(sgd_parameters, {\"lr\": 0.0001})\n",
    "loss_fn = pyro.infer.Trace_ELBO().differentiable_loss\n",
    "# compute loss\n",
    "loss = loss_fn(model, guide)\n",
    "loss.backward()\n",
    "# take a step and zero the parameter gradients\n",
    "adam.step()\n",
    "sgd.step()\n",
    "adam.zero_grad()\n",
    "sgd.zero_grad()\n",
    "```\n",
    "\n",
    "For completeness, we also show how we can do the same thing using [MultiOptimizer](http://docs.pyro.ai/en/dev/optimization.html?highlight=multi%20optimizer#module-pyro.optim.multi), which allows\n",
    "us to combine multiple Pyro optimizers. Note that since `MultiOptimizer` uses `torch.autograd.grad` under the hood (instead of `torch.Tensor.backward()`), it has a slightly different interface; in particular the `step()` method also takes parameters as inputs.\n",
    "\n",
    "```python\n",
    "def model():\n",
    "    pyro.param('a', ...)\n",
    "    pyro.param('b', ...)\n",
    "    ...\n",
    "  \n",
    "adam = pyro.optim.Adam({'lr': 0.1})\n",
    "sgd = pyro.optim.SGD({'lr': 0.01})\n",
    "optim = MixedMultiOptimizer([(['a'], adam), (['b'], sgd)])\n",
    "with pyro.poutine.trace(param_only=True) as param_capture:\n",
    "    loss = elbo.differentiable_loss(model, guide)\n",
    "params = {'a': pyro.param('a'), 'b': pyro.param('b')}\n",
    "optim.step(loss, params)\n",
    "```"
   ]
  },
  {
   "cell_type": "markdown",
   "metadata": {
    "Collapsed": "false"
   },
   "source": [
    "## 自定义 ELBO 损失函数"
   ]
  },
  {
   "cell_type": "markdown",
   "metadata": {
    "Collapsed": "false"
   },
   "source": [
    "\n",
    "### Simple ELBO\n",
    "\n",
    "In the previous three examples we bypassed creating a `SVI` object and directly manipulated \n",
    "the differentiable loss function provided by an `ELBO` implementation. Another thing we \n",
    "can do is create custom `ELBO` implementations and pass those into the `SVI` machinery. \n",
    "For example, a simplified version of a `Trace_ELBO` loss function might look as follows:\n",
    "\n",
    "```python\n",
    "# note that simple_elbo takes a model, a guide, and their respective arguments as inputs\n",
    "def simple_elbo(model, guide, *args, **kwargs):\n",
    "    # run the guide and trace its execution\n",
    "    guide_trace = poutine.trace(guide).get_trace(*args, **kwargs)\n",
    "    # run the model and replay it against the samples from the guide\n",
    "    model_trace = poutine.trace(\n",
    "        poutine.replay(model, trace=guide_trace)).get_trace(*args, **kwargs)\n",
    "    # construct the elbo loss function\n",
    "    return -1*(model_trace.log_prob_sum() - guide_trace.log_prob_sum())\n",
    "\n",
    "svi = SVI(model, guide, optim, loss=simple_elbo)\n",
    "```\n",
    "Note that this is basically what the `elbo` implementation in [\"mini-pyro\"](https://github.com/pyro-ppl/pyro/blob/dev/pyro/contrib/minipyro.py) looks like."
   ]
  },
  {
   "cell_type": "markdown",
   "metadata": {
    "Collapsed": "false"
   },
   "source": [
    "### KL Annealing\n",
    "\n",
    "In the [Deep Markov Model Tutorial](http://pyro.ai/examples/dmm.html) the ELBO variational objective\n",
    "is modified during training. In particular the various KL-divergence terms between latent random\n",
    "variables are scaled downward (i.e. annealed) relative to the log probabilities of the observed data.\n",
    "In the tutorial this is accomplished using `poutine.scale`. We can accomplish the same thing by defining \n",
    "a custom loss function. This latter option is not a very elegant pattern but we include it anyway to \n",
    "show the flexibility we have at our disposal. \n",
    "\n",
    "```python\n",
    "def simple_elbo_kl_annealing(model, guide, *args, **kwargs):\n",
    "    # get the annealing factor and latents to anneal from the keyword\n",
    "    # arguments passed to the model and guide\n",
    "    annealing_factor = kwargs.pop('annealing_factor', 1.0)\n",
    "    latents_to_anneal = kwargs.pop('latents_to_anneal', [])\n",
    "    # run the guide and replay the model against the guide\n",
    "    guide_trace = poutine.trace(guide).get_trace(*args, **kwargs)\n",
    "    model_trace = poutine.trace(\n",
    "        poutine.replay(model, trace=guide_trace)).get_trace(*args, **kwargs)\n",
    "        \n",
    "    elbo = 0.0\n",
    "    # loop through all the sample sites in the model and guide trace and\n",
    "    # construct the loss; note that we scale all the log probabilities of\n",
    "    # samples sites in `latents_to_anneal` by the factor `annealing_factor`\n",
    "    for site in model_trace.values():\n",
    "        if site[\"type\"] == \"sample\":\n",
    "            factor = annealing_factor if site[\"name\"] in latents_to_anneal else 1.0\n",
    "            elbo = elbo + factor * site[\"fn\"].log_prob(site[\"value\"]).sum()\n",
    "    for site in guide_trace.values():\n",
    "        if site[\"type\"] == \"sample\":\n",
    "            factor = annealing_factor if site[\"name\"] in latents_to_anneal else 1.0        \n",
    "            elbo = elbo - factor * site[\"fn\"].log_prob(site[\"value\"]).sum()\n",
    "    return -elbo\n",
    "\n",
    "svi = SVI(model, guide, optim, loss=simple_elbo_kl_annealing)\n",
    "svi.step(other_args, annealing_factor=0.2, latents_to_anneal=[\"my_latent\"])\n",
    "```"
   ]
  },
  {
   "cell_type": "code",
   "execution_count": null,
   "metadata": {
    "Collapsed": "false"
   },
   "outputs": [],
   "source": []
  }
 ],
 "metadata": {
  "kernelspec": {
   "display_name": "Python 3",
   "language": "python",
   "name": "python3"
  },
  "language_info": {
   "codemirror_mode": {
    "name": "ipython",
    "version": 3
   },
   "file_extension": ".py",
   "mimetype": "text/x-python",
   "name": "python",
   "nbconvert_exporter": "python",
   "pygments_lexer": "ipython3",
   "version": "3.7.4"
  },
  "toc": {
   "base_numbering": 1,
   "nav_menu": {},
   "number_sections": true,
   "sideBar": true,
   "skip_h1_title": false,
   "title_cell": "Table of Contents",
   "title_sidebar": "Contents",
   "toc_cell": false,
   "toc_position": {},
   "toc_section_display": true,
   "toc_window_display": true
  },
  "toc-autonumbering": true
 },
 "nbformat": 4,
 "nbformat_minor": 4
}

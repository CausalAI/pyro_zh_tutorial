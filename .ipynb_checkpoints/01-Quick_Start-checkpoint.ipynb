{
 "cells": [
  {
   "cell_type": "markdown",
   "metadata": {},
   "source": [
    "# Quick Start\n",
    "\n",
    "关于 Pyro 相关内容的快速开始。"
   ]
  },
  {
   "cell_type": "markdown",
   "metadata": {},
   "source": [
    "## 资料收集"
   ]
  },
  {
   "cell_type": "markdown",
   "metadata": {},
   "source": [
    "[Lecture Notes for Causality in Machine Learning](https://bookdown.org/robertness/causalml/docs/) 使用 Pyro 研究因果。\n",
    "\n",
    "Northeastern University Khoury College CS 7290: Summer 2019\n",
    "\n",
    "These are lecture notes for an ongoing course on causal inference and modeling in machine learning, taught by Dr. Robert O. Ness. These notes are a work in progress, created as the course progresses. They are created by the instructor, the course TA’s Kaushal Paneri and Sicheng Hao, and the Summer 2019 students of this course."
   ]
  },
  {
   "cell_type": "markdown",
   "metadata": {},
   "source": [
    "### 时间序列\n",
    "\n",
    "[使用概率编程和Pyro进行金融预测](https://zhuanlan.zhihu.com/p/64658444)\n",
    "\n",
    "大家好，我回来了！去年我发表了几篇利用神经网络做金融预测的教程，其中一些结果是有趣的，我觉得值得应用于真实交易应用中。如果你读过那些文章，你可能注意到，当你用某些机器学习模型拟合“随机”数据，并试图找到其中隐含模式时，通常会陷于过拟合。我们用了不同的正则化技术以及额外的数据试图解决这一问题，但这很费时且需要盲目搜索。\n",
    "\n",
    "今天我会用略微不同的方法拟合之前的算法。从概率角度进行处理，通过数据本身进行正则化，估计预测的确定性，使用较少的数据，将概率依赖引入到模型中。这里主要讲概况，我会更注重于应用问题，而不会特别深入的讲解贝叶斯模型或变分推断技术或数学细节问题。你可以在这里找到代码。\n",
    "\n",
    "[使用开源概率编程语言 Pyro 对截尾时间 - 事件数据进行建模](https://www.infoq.cn/article/8-D5SuBqeBUPr2QLLTX4)\n",
    "\n",
    "在 Uber，我们有兴趣调查乘客在平台上完成首次乘坐到第 2 次乘坐之间的时间跨度。我们的很多乘客是通过推荐或促销活动首次与 Uber 进行互动的。他们的第 2 次乘坐是个关键指标，表明乘客在使用平台的过程中发现价值并愿意长期使用我们服务。然而，对第 2 次乘坐时间建模是件棘手的事。例如，一些乘客不经常乘车。在分析这类乘客的第 2 次乘坐之前的时间 - 事件数据时，我们认为他们的数据就是截尾数据。\n",
    "\n",
    "\n",
    "\n",
    "[手把手：基于概率编程Pyro的金融预测，让正则化结果更有趣!](https://zhuanlan.zhihu.com/p/35589646)\n",
    "\n",
    "Hi！又见面啦。去年我推出了几篇基于神经网络的金融预测教程，我认为有些结果还是蛮有趣的，值得应用在实际交易中。\n"
   ]
  },
  {
   "cell_type": "markdown",
   "metadata": {},
   "source": [
    "### 相关工具"
   ]
  },
  {
   "cell_type": "markdown",
   "metadata": {},
   "source": [
    "PyTorch Geometric (PyG) is a geometric deep learning extension library for PyTorch.\n",
    "\n",
    "https://github.com/rusty1s/pytorch_geometric\n",
    "\n",
    "基于 Pytorch 的图网络。It consists of various methods for deep learning on graphs and other irregular structures, also known as geometric deep learning, from a variety of published papers. In addition, it consists of an easy-to-use mini-batch loader for many small and single giant graphs, multi gpu-support, a large number of common benchmark datasets (based on simple interfaces to create your own), and helpful transforms, both for learning on arbitrary graphs as well as on 3D meshes or point clouds.\n",
    "\n",
    "对应了一个集成 Pyro 的API\n",
    "\n",
    "https://gpytorch.readthedocs.io/en/latest/examples/07_Pyro_Integration/"
   ]
  },
  {
   "cell_type": "markdown",
   "metadata": {},
   "source": [
    "\n",
    "\n",
    "[对新手友好的 PyTorch 深度概率推断工具 Brancher，掌握 ML 和 Python 基础即可上手](https://www.jiqizhixin.com/articles/2019-06-17-13)\n",
    "\n",
    "今天，来自荷兰拉德堡德大学（Radboud University）团队的开发者在 reddit 上发布了一个 PyTorch 深度概率推断工具——Brancher，旨在使贝叶斯统计和深度学习之间的集成变得简单而直观。与其他概率推断工具相比，Brancher 对新手更加友好，只具备机器学习和 Python 基础的人也可以上手使用。\n",
    "\n",
    "项目的主要开发者 LucaAmbrogioni 表示，与 Brancher 紧密相关的两个模块是 Pyro 和 PyMC3。Brancher 的目标受众比 Pyro 更广泛，包括那些只接受过机器学习和 Python 编程基本培训的人。界面设计得尽可能接近数学。缺点是 Brancher 不如 Pyro 灵活。"
   ]
  },
  {
   "cell_type": "markdown",
   "metadata": {},
   "source": [
    "### 贝叶斯网络\n"
   ]
  },
  {
   "cell_type": "markdown",
   "metadata": {},
   "source": [
    "[使用Pytorch和Pyro实现贝叶斯神经网络(Bayesian Neural Network)](https://blog.csdn.net/gangshen1993/article/details/96451556)\n",
    "\n",
    "最近概率模型和神经网络相结合的研究变得多了起来，这次使用Uber开源的Pyro来实现一个贝叶斯神经网络。概率编程框架最近出了不少，Uber的Pyro基于Pytorch，Google的Edward基于TensorFlow，还有一些独立的像PyMC3,Stan,Pomegranate等等。\n",
    "这次选择使用Pyro实现的原因是，Pyro基于Numpy实现，加上对Pytorch的支持很友好，可以自动计算梯度，动态计算，这些好处当然都是Pytorch带来的。官网链接：https://pyro.ai/， 介绍到此为止，接下来开始一步一步写代码了。\n",
    "\n",
    "```py\n",
    "def model(x_data, y_data):\n",
    "    # define prior destributions\n",
    "    fc1w_prior = Normal(loc=torch.zeros_like(net.fc1.weight),\n",
    "                                      scale=torch.ones_like(net.fc1.weight))\n",
    "    fc1b_prior = Normal(loc=torch.zeros_like(net.fc1.bias),\n",
    "                                      scale=torch.ones_like(net.fc1.bias))\n",
    "    outw_prior = Normal(loc=torch.zeros_like(net.out.weight),\n",
    "                                       scale=torch.ones_like(net.out.weight))\n",
    "    outb_prior = Normal(loc=torch.zeros_like(net.out.bias),\n",
    "                                       scale=torch.ones_like(net.out.bias))\n",
    "    \n",
    "    priors = {'fc1.weight': fc1w_prior, 'fc1.bias': fc1b_prior, \n",
    "        'out.weight': outw_prior, 'out.bias': outb_prior}\n",
    "        \n",
    "    lifted_module = pyro.random_module(\"module\", net, priors)\n",
    "    lifted_reg_model = lifted_module()    \n",
    "    lhat = F.log_softmax(lifted_reg_model(x_data))\n",
    "    pyro.sample(\"obs\", Categorical(logits=lhat), obs=y_data)\n",
    "```\n",
    "\n",
    "\n",
    "[让神经网络说“我不知道”——用Pyro/PyTorch实现贝叶斯神经网络](https://www.yanxishe.com/TextTranslation/1301)\n",
    "\n",
    "构建一个图像分类器已经变成了一种新的“hello world”。你是否还及得当初第一次使用Python时候print出“hello world”的那种神奇感觉？几个月前当我按照pytorch的官方教程搭建了自己的简单分类器并取得了很好的效果时，我同样感觉到了这种神奇。\n",
    "\n",
    "![](https://static.leiphone.com/uploads/new/sns/article/201812/1543820984234002.jpg)"
   ]
  },
  {
   "cell_type": "markdown",
   "metadata": {},
   "source": [
    "### Github\n",
    "\n",
    "- https://github.com/MengyaoHuang/Pyro-Study\n",
    "- https://github.com/pyro-ppl/pyro-models/tree/master/pyro_models\n",
    "- https://github.com/pyro-ppl/sandbox"
   ]
  },
  {
   "cell_type": "markdown",
   "metadata": {},
   "source": [
    "### 因果 Pyro\n",
    "\n"
   ]
  },
  {
   "cell_type": "markdown",
   "metadata": {},
   "source": [
    "[Lecture Notes for Causality in Machine Learning](https://bookdown.org/robertness/causalml/docs/) 使用 Pyro 研究因果。\n",
    "\n",
    "Northeastern University Khoury College CS 7290: Summer 2019\n",
    "\n",
    "These are lecture notes for an ongoing course on causal inference and modeling in machine learning, taught by Dr. Robert O. Ness. These notes are a work in progress, created as the course progresses. They are created by the instructor, the course TA’s Kaushal Paneri and Sicheng Hao, and the Summer 2019 students of this course."
   ]
  }
 ],
 "metadata": {
  "kernelspec": {
   "display_name": "Python 3",
   "language": "python",
   "name": "python3"
  },
  "language_info": {
   "codemirror_mode": {
    "name": "ipython",
    "version": 3
   },
   "file_extension": ".py",
   "mimetype": "text/x-python",
   "name": "python",
   "nbconvert_exporter": "python",
   "pygments_lexer": "ipython3",
   "version": "3.7.4"
  },
  "toc": {
   "base_numbering": 1,
   "nav_menu": {},
   "number_sections": true,
   "sideBar": true,
   "skip_h1_title": false,
   "title_cell": "Table of Contents",
   "title_sidebar": "Contents",
   "toc_cell": false,
   "toc_position": {},
   "toc_section_display": true,
   "toc_window_display": true
  }
 },
 "nbformat": 4,
 "nbformat_minor": 2
}
